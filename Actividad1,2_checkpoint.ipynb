{
  "nbformat": 4,
  "nbformat_minor": 0,
  "metadata": {
    "kernelspec": {
      "display_name": "Python 3",
      "language": "python",
      "name": "python3"
    },
    "language_info": {
      "codemirror_mode": {
        "name": "ipython",
        "version": 3
      },
      "file_extension": ".py",
      "mimetype": "text/x-python",
      "name": "python",
      "nbconvert_exporter": "python",
      "pygments_lexer": "ipython3",
      "version": "3.7.6"
    },
    "colab": {
      "name": "Actividad1,2-checkpoint.ipynb",
      "provenance": [],
      "history_visible": true
    }
  },
  "cells": [
    {
      "cell_type": "code",
      "metadata": {
        "id": "lgz8G164koBO"
      },
      "source": [
        "import pandas as pd\n",
        "import matplotlib.pyplot as plt\n",
        "import numpy as np\n",
        "import scipy.stats as stats"
      ],
      "execution_count": 4,
      "outputs": []
    },
    {
      "cell_type": "markdown",
      "metadata": {
        "id": "1qQM5zvVkoBb"
      },
      "source": [
        "#Absenteeism at work Data Set\n",
        "\n",
        "https://archive.ics.uci.edu/ml/datasets/Absenteeism+at+work#\n",
        "\n",
        "*Source:*\n",
        "\n",
        "Creators original owner and donors: Andrea Martiniano (1), Ricardo Pinto Ferreira (2), and Renato Jose Sassi (3).\n",
        "\n",
        "E-mail address:\n",
        "andrea.martiniano'@'gmail.com (1) - PhD student;\n",
        "log.kasparov'@'gmail.com (2) - PhD student;\n",
        "sassi'@'uni9.pro.br (3) - Prof. Doctor.\n",
        "\n",
        "Universidade Nove de Julho - Postgraduate Program in Informatics and Knowledge Management.\n",
        "\n",
        "*Attribute Information:*\n",
        "1. Individual identification (ID)\n",
        "2. Reason for absence (ICD).\n",
        "Absences attested by the International Code of Diseases (ICD) stratified into 21 categories (I to XXI) as follows:\n",
        "\n",
        "I Certain infectious and parasitic diseases\n",
        "II Neoplasms\n",
        "III Diseases of the blood and blood-forming organs and certain disorders involving the immune mechanism\n",
        "IV Endocrine, nutritional and metabolic diseases\n",
        "V Mental and behavioural disorders\n",
        "VI Diseases of the nervous system\n",
        "VII Diseases of the eye and adnexa\n",
        "VIII Diseases of the ear and mastoid process\n",
        "IX Diseases of the circulatory system\n",
        "X Diseases of the respiratory system\n",
        "XI Diseases of the digestive system\n",
        "XII Diseases of the skin and subcutaneous tissue\n",
        "XIII Diseases of the musculoskeletal system and connective tissue\n",
        "XIV Diseases of the genitourinary system\n",
        "XV Pregnancy, childbirth and the puerperium\n",
        "XVI Certain conditions originating in the perinatal period\n",
        "XVII Congenital malformations, deformations and chromosomal abnormalities\n",
        "XVIII Symptoms, signs and abnormal clinical and laboratory findings, not elsewhere classified\n",
        "XIX Injury, poisoning and certain other consequences of external causes\n",
        "XX External causes of morbidity and mortality\n",
        "XXI Factors influencing health status and contact with health services.\n",
        "\n",
        "And 7 categories without (CID) patient follow-up (22), medical consultation (23), blood donation (24), laboratory examination (25), unjustified absence (26), physiotherapy (27), dental consultation (28).\n",
        "3. Month of absence\n",
        "4. Day of the week (Monday (2), Tuesday (3), Wednesday (4), Thursday (5), Friday (6))\n",
        "5. Seasons (summer (1), autumn (2), winter (3), spring (4))\n",
        "6. Transportation expense\n",
        "7. Distance from Residence to Work (kilometers)\n",
        "8. Service time\n",
        "9. Age\n",
        "10. Work load Average/day\n",
        "11. Hit target\n",
        "12. Disciplinary failure (yes=1; no=0)\n",
        "13. Education (high school (1), graduate (2), postgraduate (3), master and doctor (4))\n",
        "14. Son (number of children)\n",
        "15. Social drinker (yes=1; no=0)\n",
        "16. Social smoker (yes=1; no=0)\n",
        "17. Pet (number of pet)\n",
        "18. Weight\n",
        "19. Height\n",
        "20. Body mass index\n",
        "21. Absenteeism time in hours"
      ]
    },
    {
      "cell_type": "code",
      "metadata": {
        "id": "_pwPCmgvkoBd"
      },
      "source": [
        "poblacion =  pd.read_csv ('/content/Absenteeism_at_work.csv', sep=';')"
      ],
      "execution_count": 6,
      "outputs": []
    },
    {
      "cell_type": "code",
      "metadata": {
        "id": "zHoLNEKkkoBe",
        "colab": {
          "base_uri": "https://localhost:8080/"
        },
        "outputId": "30c67ba5-fc26-4992-e58d-a874199f3483"
      },
      "source": [
        "poblacion.info()"
      ],
      "execution_count": 75,
      "outputs": [
        {
          "output_type": "stream",
          "text": [
            "<class 'pandas.core.frame.DataFrame'>\n",
            "RangeIndex: 740 entries, 0 to 739\n",
            "Data columns (total 21 columns):\n",
            " #   Column                           Non-Null Count  Dtype  \n",
            "---  ------                           --------------  -----  \n",
            " 0   ID                               740 non-null    int64  \n",
            " 1   Reason for absence               740 non-null    int64  \n",
            " 2   Month of absence                 740 non-null    int64  \n",
            " 3   Day of the week                  740 non-null    int64  \n",
            " 4   Seasons                          740 non-null    int64  \n",
            " 5   Transportation expense           740 non-null    int64  \n",
            " 6   Distance from Residence to Work  740 non-null    int64  \n",
            " 7   Service time                     740 non-null    int64  \n",
            " 8   Age                              740 non-null    int64  \n",
            " 9   Work load Average/day            740 non-null    float64\n",
            " 10  Hit target                       740 non-null    int64  \n",
            " 11  Disciplinary failure             740 non-null    int64  \n",
            " 12  Education                        740 non-null    int64  \n",
            " 13  Son                              740 non-null    int64  \n",
            " 14  Social drinker                   740 non-null    int64  \n",
            " 15  Social smoker                    740 non-null    int64  \n",
            " 16  Pet                              740 non-null    int64  \n",
            " 17  Weight                           740 non-null    int64  \n",
            " 18  Height                           740 non-null    int64  \n",
            " 19  Body mass index                  740 non-null    int64  \n",
            " 20  Absenteeism time in hours        740 non-null    int64  \n",
            "dtypes: float64(1), int64(20)\n",
            "memory usage: 121.5 KB\n"
          ],
          "name": "stdout"
        }
      ]
    },
    {
      "cell_type": "code",
      "metadata": {
        "id": "ved1HM6fkoBg",
        "colab": {
          "base_uri": "https://localhost:8080/",
          "height": 368
        },
        "outputId": "58deb90a-7249-4292-f2f1-11ecac6f8874"
      },
      "source": [
        "poblacion.describe()"
      ],
      "execution_count": 7,
      "outputs": [
        {
          "output_type": "execute_result",
          "data": {
            "text/html": [
              "<div>\n",
              "<style scoped>\n",
              "    .dataframe tbody tr th:only-of-type {\n",
              "        vertical-align: middle;\n",
              "    }\n",
              "\n",
              "    .dataframe tbody tr th {\n",
              "        vertical-align: top;\n",
              "    }\n",
              "\n",
              "    .dataframe thead th {\n",
              "        text-align: right;\n",
              "    }\n",
              "</style>\n",
              "<table border=\"1\" class=\"dataframe\">\n",
              "  <thead>\n",
              "    <tr style=\"text-align: right;\">\n",
              "      <th></th>\n",
              "      <th>ID</th>\n",
              "      <th>Reason for absence</th>\n",
              "      <th>Month of absence</th>\n",
              "      <th>Day of the week</th>\n",
              "      <th>Seasons</th>\n",
              "      <th>Transportation expense</th>\n",
              "      <th>Distance from Residence to Work</th>\n",
              "      <th>Service time</th>\n",
              "      <th>Age</th>\n",
              "      <th>Work load Average/day</th>\n",
              "      <th>Hit target</th>\n",
              "      <th>Disciplinary failure</th>\n",
              "      <th>Education</th>\n",
              "      <th>Son</th>\n",
              "      <th>Social drinker</th>\n",
              "      <th>Social smoker</th>\n",
              "      <th>Pet</th>\n",
              "      <th>Weight</th>\n",
              "      <th>Height</th>\n",
              "      <th>Body mass index</th>\n",
              "      <th>Absenteeism time in hours</th>\n",
              "    </tr>\n",
              "  </thead>\n",
              "  <tbody>\n",
              "    <tr>\n",
              "      <th>count</th>\n",
              "      <td>740.000000</td>\n",
              "      <td>740.000000</td>\n",
              "      <td>740.000000</td>\n",
              "      <td>740.000000</td>\n",
              "      <td>740.000000</td>\n",
              "      <td>740.000000</td>\n",
              "      <td>740.000000</td>\n",
              "      <td>740.000000</td>\n",
              "      <td>740.000000</td>\n",
              "      <td>740.000000</td>\n",
              "      <td>740.000000</td>\n",
              "      <td>740.000000</td>\n",
              "      <td>740.000000</td>\n",
              "      <td>740.000000</td>\n",
              "      <td>740.000000</td>\n",
              "      <td>740.000000</td>\n",
              "      <td>740.000000</td>\n",
              "      <td>740.000000</td>\n",
              "      <td>740.000000</td>\n",
              "      <td>740.000000</td>\n",
              "      <td>740.000000</td>\n",
              "    </tr>\n",
              "    <tr>\n",
              "      <th>mean</th>\n",
              "      <td>18.017568</td>\n",
              "      <td>19.216216</td>\n",
              "      <td>6.324324</td>\n",
              "      <td>3.914865</td>\n",
              "      <td>2.544595</td>\n",
              "      <td>221.329730</td>\n",
              "      <td>29.631081</td>\n",
              "      <td>12.554054</td>\n",
              "      <td>36.450000</td>\n",
              "      <td>271.490235</td>\n",
              "      <td>94.587838</td>\n",
              "      <td>0.054054</td>\n",
              "      <td>1.291892</td>\n",
              "      <td>1.018919</td>\n",
              "      <td>0.567568</td>\n",
              "      <td>0.072973</td>\n",
              "      <td>0.745946</td>\n",
              "      <td>79.035135</td>\n",
              "      <td>172.114865</td>\n",
              "      <td>26.677027</td>\n",
              "      <td>6.924324</td>\n",
              "    </tr>\n",
              "    <tr>\n",
              "      <th>std</th>\n",
              "      <td>11.021247</td>\n",
              "      <td>8.433406</td>\n",
              "      <td>3.436287</td>\n",
              "      <td>1.421675</td>\n",
              "      <td>1.111831</td>\n",
              "      <td>66.952223</td>\n",
              "      <td>14.836788</td>\n",
              "      <td>4.384873</td>\n",
              "      <td>6.478772</td>\n",
              "      <td>39.058116</td>\n",
              "      <td>3.779313</td>\n",
              "      <td>0.226277</td>\n",
              "      <td>0.673238</td>\n",
              "      <td>1.098489</td>\n",
              "      <td>0.495749</td>\n",
              "      <td>0.260268</td>\n",
              "      <td>1.318258</td>\n",
              "      <td>12.883211</td>\n",
              "      <td>6.034995</td>\n",
              "      <td>4.285452</td>\n",
              "      <td>13.330998</td>\n",
              "    </tr>\n",
              "    <tr>\n",
              "      <th>min</th>\n",
              "      <td>1.000000</td>\n",
              "      <td>0.000000</td>\n",
              "      <td>0.000000</td>\n",
              "      <td>2.000000</td>\n",
              "      <td>1.000000</td>\n",
              "      <td>118.000000</td>\n",
              "      <td>5.000000</td>\n",
              "      <td>1.000000</td>\n",
              "      <td>27.000000</td>\n",
              "      <td>205.917000</td>\n",
              "      <td>81.000000</td>\n",
              "      <td>0.000000</td>\n",
              "      <td>1.000000</td>\n",
              "      <td>0.000000</td>\n",
              "      <td>0.000000</td>\n",
              "      <td>0.000000</td>\n",
              "      <td>0.000000</td>\n",
              "      <td>56.000000</td>\n",
              "      <td>163.000000</td>\n",
              "      <td>19.000000</td>\n",
              "      <td>0.000000</td>\n",
              "    </tr>\n",
              "    <tr>\n",
              "      <th>25%</th>\n",
              "      <td>9.000000</td>\n",
              "      <td>13.000000</td>\n",
              "      <td>3.000000</td>\n",
              "      <td>3.000000</td>\n",
              "      <td>2.000000</td>\n",
              "      <td>179.000000</td>\n",
              "      <td>16.000000</td>\n",
              "      <td>9.000000</td>\n",
              "      <td>31.000000</td>\n",
              "      <td>244.387000</td>\n",
              "      <td>93.000000</td>\n",
              "      <td>0.000000</td>\n",
              "      <td>1.000000</td>\n",
              "      <td>0.000000</td>\n",
              "      <td>0.000000</td>\n",
              "      <td>0.000000</td>\n",
              "      <td>0.000000</td>\n",
              "      <td>69.000000</td>\n",
              "      <td>169.000000</td>\n",
              "      <td>24.000000</td>\n",
              "      <td>2.000000</td>\n",
              "    </tr>\n",
              "    <tr>\n",
              "      <th>50%</th>\n",
              "      <td>18.000000</td>\n",
              "      <td>23.000000</td>\n",
              "      <td>6.000000</td>\n",
              "      <td>4.000000</td>\n",
              "      <td>3.000000</td>\n",
              "      <td>225.000000</td>\n",
              "      <td>26.000000</td>\n",
              "      <td>13.000000</td>\n",
              "      <td>37.000000</td>\n",
              "      <td>264.249000</td>\n",
              "      <td>95.000000</td>\n",
              "      <td>0.000000</td>\n",
              "      <td>1.000000</td>\n",
              "      <td>1.000000</td>\n",
              "      <td>1.000000</td>\n",
              "      <td>0.000000</td>\n",
              "      <td>0.000000</td>\n",
              "      <td>83.000000</td>\n",
              "      <td>170.000000</td>\n",
              "      <td>25.000000</td>\n",
              "      <td>3.000000</td>\n",
              "    </tr>\n",
              "    <tr>\n",
              "      <th>75%</th>\n",
              "      <td>28.000000</td>\n",
              "      <td>26.000000</td>\n",
              "      <td>9.000000</td>\n",
              "      <td>5.000000</td>\n",
              "      <td>4.000000</td>\n",
              "      <td>260.000000</td>\n",
              "      <td>50.000000</td>\n",
              "      <td>16.000000</td>\n",
              "      <td>40.000000</td>\n",
              "      <td>294.217000</td>\n",
              "      <td>97.000000</td>\n",
              "      <td>0.000000</td>\n",
              "      <td>1.000000</td>\n",
              "      <td>2.000000</td>\n",
              "      <td>1.000000</td>\n",
              "      <td>0.000000</td>\n",
              "      <td>1.000000</td>\n",
              "      <td>89.000000</td>\n",
              "      <td>172.000000</td>\n",
              "      <td>31.000000</td>\n",
              "      <td>8.000000</td>\n",
              "    </tr>\n",
              "    <tr>\n",
              "      <th>max</th>\n",
              "      <td>36.000000</td>\n",
              "      <td>28.000000</td>\n",
              "      <td>12.000000</td>\n",
              "      <td>6.000000</td>\n",
              "      <td>4.000000</td>\n",
              "      <td>388.000000</td>\n",
              "      <td>52.000000</td>\n",
              "      <td>29.000000</td>\n",
              "      <td>58.000000</td>\n",
              "      <td>378.884000</td>\n",
              "      <td>100.000000</td>\n",
              "      <td>1.000000</td>\n",
              "      <td>4.000000</td>\n",
              "      <td>4.000000</td>\n",
              "      <td>1.000000</td>\n",
              "      <td>1.000000</td>\n",
              "      <td>8.000000</td>\n",
              "      <td>108.000000</td>\n",
              "      <td>196.000000</td>\n",
              "      <td>38.000000</td>\n",
              "      <td>120.000000</td>\n",
              "    </tr>\n",
              "  </tbody>\n",
              "</table>\n",
              "</div>"
            ],
            "text/plain": [
              "               ID  ...  Absenteeism time in hours\n",
              "count  740.000000  ...                 740.000000\n",
              "mean    18.017568  ...                   6.924324\n",
              "std     11.021247  ...                  13.330998\n",
              "min      1.000000  ...                   0.000000\n",
              "25%      9.000000  ...                   2.000000\n",
              "50%     18.000000  ...                   3.000000\n",
              "75%     28.000000  ...                   8.000000\n",
              "max     36.000000  ...                 120.000000\n",
              "\n",
              "[8 rows x 21 columns]"
            ]
          },
          "metadata": {
            "tags": []
          },
          "execution_count": 7
        }
      ]
    },
    {
      "cell_type": "code",
      "metadata": {
        "id": "kD2RvspzkoBh",
        "colab": {
          "base_uri": "https://localhost:8080/",
          "height": 312
        },
        "outputId": "dcc53b59-53d4-42d7-ccb4-e926c5e218d2"
      },
      "source": [
        "# Instanciar Distribucion\n",
        "mu = 36.450000\n",
        "sigma = 6.478772\n",
        "x = np.linspace(mu - 3*sigma, mu + 3*sigma, 100)\n",
        "plt.plot(x, stats.norm.pdf(x, mu, sigma))\n",
        "# Agregar estilo\n",
        "plt.vlines( mu +1.96*sigma, 0, 0.1, colors='r', lw=2, alpha=0.5)\n",
        "plt.vlines( mu -1.96*sigma, 0, 0.1, colors='r', lw=2, alpha=0.5)\n",
        "\n",
        "plt.title(\"Distribución \")\n",
        "plt.xlabel(\"x\")\n",
        "plt.legend()\n",
        "plt.show()"
      ],
      "execution_count": 12,
      "outputs": [
        {
          "output_type": "stream",
          "text": [
            "No handles with labels found to put in legend.\n"
          ],
          "name": "stderr"
        },
        {
          "output_type": "display_data",
          "data": {
            "image/png": "[encoded data removed]",
            "text/plain": [
              "<Figure size 432x288 with 1 Axes>"
            ]
          },
          "metadata": {
            "tags": [],
            "needs_background": "light"
          }
        }
      ]
    },
    {
      "cell_type": "markdown",
      "metadata": {
        "id": "7Fn80QbkkoBi"
      },
      "source": [
        "\n",
        "N=740\n",
        "alpha=0.95\n",
        "error=0.05\n",
        "\n",
        "Desired confidence level\tz-score\n",
        "80%     1.28\n",
        "85%     1.44\n",
        "90%     1.65\n",
        "95%     1.96\n",
        "99%     2.58\n",
        "\n",
        "N=254\n",
        "\n",
        "Conseguido a través de: https://www.surveymonkey.com/mp/sample-size-calculator/"
      ]
    },
    {
      "cell_type": "code",
      "metadata": {
        "id": "IlCq-IZDkoBi",
        "colab": {
          "base_uri": "https://localhost:8080/",
          "height": 368
        },
        "outputId": "b4fc6ff1-c9dd-4abd-e68f-02bca797f8bd"
      },
      "source": [
        "muestra=poblacion.sample(n =254 ) \n",
        "muestra.describe()"
      ],
      "execution_count": 9,
      "outputs": [
        {
          "output_type": "execute_result",
          "data": {
            "text/html": [
              "<div>\n",
              "<style scoped>\n",
              "    .dataframe tbody tr th:only-of-type {\n",
              "        vertical-align: middle;\n",
              "    }\n",
              "\n",
              "    .dataframe tbody tr th {\n",
              "        vertical-align: top;\n",
              "    }\n",
              "\n",
              "    .dataframe thead th {\n",
              "        text-align: right;\n",
              "    }\n",
              "</style>\n",
              "<table border=\"1\" class=\"dataframe\">\n",
              "  <thead>\n",
              "    <tr style=\"text-align: right;\">\n",
              "      <th></th>\n",
              "      <th>ID</th>\n",
              "      <th>Reason for absence</th>\n",
              "      <th>Month of absence</th>\n",
              "      <th>Day of the week</th>\n",
              "      <th>Seasons</th>\n",
              "      <th>Transportation expense</th>\n",
              "      <th>Distance from Residence to Work</th>\n",
              "      <th>Service time</th>\n",
              "      <th>Age</th>\n",
              "      <th>Work load Average/day</th>\n",
              "      <th>Hit target</th>\n",
              "      <th>Disciplinary failure</th>\n",
              "      <th>Education</th>\n",
              "      <th>Son</th>\n",
              "      <th>Social drinker</th>\n",
              "      <th>Social smoker</th>\n",
              "      <th>Pet</th>\n",
              "      <th>Weight</th>\n",
              "      <th>Height</th>\n",
              "      <th>Body mass index</th>\n",
              "      <th>Absenteeism time in hours</th>\n",
              "    </tr>\n",
              "  </thead>\n",
              "  <tbody>\n",
              "    <tr>\n",
              "      <th>count</th>\n",
              "      <td>254.000000</td>\n",
              "      <td>254.000000</td>\n",
              "      <td>254.000000</td>\n",
              "      <td>254.000000</td>\n",
              "      <td>254.000000</td>\n",
              "      <td>254.000000</td>\n",
              "      <td>254.000000</td>\n",
              "      <td>254.000000</td>\n",
              "      <td>254.000000</td>\n",
              "      <td>254.000000</td>\n",
              "      <td>254.000000</td>\n",
              "      <td>254.000000</td>\n",
              "      <td>254.000000</td>\n",
              "      <td>254.000000</td>\n",
              "      <td>254.000000</td>\n",
              "      <td>254.000000</td>\n",
              "      <td>254.000000</td>\n",
              "      <td>254.000000</td>\n",
              "      <td>254.000000</td>\n",
              "      <td>254.000000</td>\n",
              "      <td>254.000000</td>\n",
              "    </tr>\n",
              "    <tr>\n",
              "      <th>mean</th>\n",
              "      <td>18.102362</td>\n",
              "      <td>18.574803</td>\n",
              "      <td>6.228346</td>\n",
              "      <td>3.858268</td>\n",
              "      <td>2.590551</td>\n",
              "      <td>218.165354</td>\n",
              "      <td>30.240157</td>\n",
              "      <td>12.661417</td>\n",
              "      <td>36.417323</td>\n",
              "      <td>271.608720</td>\n",
              "      <td>94.681102</td>\n",
              "      <td>0.051181</td>\n",
              "      <td>1.307087</td>\n",
              "      <td>1.015748</td>\n",
              "      <td>0.559055</td>\n",
              "      <td>0.070866</td>\n",
              "      <td>0.700787</td>\n",
              "      <td>78.291339</td>\n",
              "      <td>172.204724</td>\n",
              "      <td>26.381890</td>\n",
              "      <td>7.098425</td>\n",
              "    </tr>\n",
              "    <tr>\n",
              "      <th>std</th>\n",
              "      <td>10.853195</td>\n",
              "      <td>8.655022</td>\n",
              "      <td>3.474785</td>\n",
              "      <td>1.454036</td>\n",
              "      <td>1.109459</td>\n",
              "      <td>66.617160</td>\n",
              "      <td>15.121687</td>\n",
              "      <td>4.470758</td>\n",
              "      <td>6.506234</td>\n",
              "      <td>37.952522</td>\n",
              "      <td>3.788462</td>\n",
              "      <td>0.220802</td>\n",
              "      <td>0.683074</td>\n",
              "      <td>1.135028</td>\n",
              "      <td>0.497481</td>\n",
              "      <td>0.257108</td>\n",
              "      <td>1.249917</td>\n",
              "      <td>13.043018</td>\n",
              "      <td>6.049648</td>\n",
              "      <td>4.218328</td>\n",
              "      <td>13.241231</td>\n",
              "    </tr>\n",
              "    <tr>\n",
              "      <th>min</th>\n",
              "      <td>1.000000</td>\n",
              "      <td>0.000000</td>\n",
              "      <td>0.000000</td>\n",
              "      <td>2.000000</td>\n",
              "      <td>1.000000</td>\n",
              "      <td>118.000000</td>\n",
              "      <td>5.000000</td>\n",
              "      <td>1.000000</td>\n",
              "      <td>27.000000</td>\n",
              "      <td>205.917000</td>\n",
              "      <td>81.000000</td>\n",
              "      <td>0.000000</td>\n",
              "      <td>1.000000</td>\n",
              "      <td>0.000000</td>\n",
              "      <td>0.000000</td>\n",
              "      <td>0.000000</td>\n",
              "      <td>0.000000</td>\n",
              "      <td>56.000000</td>\n",
              "      <td>163.000000</td>\n",
              "      <td>19.000000</td>\n",
              "      <td>0.000000</td>\n",
              "    </tr>\n",
              "    <tr>\n",
              "      <th>25%</th>\n",
              "      <td>10.000000</td>\n",
              "      <td>13.000000</td>\n",
              "      <td>3.000000</td>\n",
              "      <td>2.000000</td>\n",
              "      <td>2.000000</td>\n",
              "      <td>179.000000</td>\n",
              "      <td>16.000000</td>\n",
              "      <td>9.000000</td>\n",
              "      <td>31.000000</td>\n",
              "      <td>244.387000</td>\n",
              "      <td>92.000000</td>\n",
              "      <td>0.000000</td>\n",
              "      <td>1.000000</td>\n",
              "      <td>0.000000</td>\n",
              "      <td>0.000000</td>\n",
              "      <td>0.000000</td>\n",
              "      <td>0.000000</td>\n",
              "      <td>67.000000</td>\n",
              "      <td>169.000000</td>\n",
              "      <td>23.000000</td>\n",
              "      <td>2.000000</td>\n",
              "    </tr>\n",
              "    <tr>\n",
              "      <th>50%</th>\n",
              "      <td>19.000000</td>\n",
              "      <td>23.000000</td>\n",
              "      <td>6.000000</td>\n",
              "      <td>4.000000</td>\n",
              "      <td>3.000000</td>\n",
              "      <td>225.000000</td>\n",
              "      <td>26.000000</td>\n",
              "      <td>12.500000</td>\n",
              "      <td>37.000000</td>\n",
              "      <td>264.810500</td>\n",
              "      <td>95.000000</td>\n",
              "      <td>0.000000</td>\n",
              "      <td>1.000000</td>\n",
              "      <td>1.000000</td>\n",
              "      <td>1.000000</td>\n",
              "      <td>0.000000</td>\n",
              "      <td>0.000000</td>\n",
              "      <td>80.000000</td>\n",
              "      <td>171.000000</td>\n",
              "      <td>25.000000</td>\n",
              "      <td>3.000000</td>\n",
              "    </tr>\n",
              "    <tr>\n",
              "      <th>75%</th>\n",
              "      <td>28.000000</td>\n",
              "      <td>26.000000</td>\n",
              "      <td>10.000000</td>\n",
              "      <td>5.000000</td>\n",
              "      <td>4.000000</td>\n",
              "      <td>260.000000</td>\n",
              "      <td>50.000000</td>\n",
              "      <td>17.000000</td>\n",
              "      <td>40.000000</td>\n",
              "      <td>294.217000</td>\n",
              "      <td>97.000000</td>\n",
              "      <td>0.000000</td>\n",
              "      <td>1.000000</td>\n",
              "      <td>2.000000</td>\n",
              "      <td>1.000000</td>\n",
              "      <td>0.000000</td>\n",
              "      <td>1.000000</td>\n",
              "      <td>89.000000</td>\n",
              "      <td>172.000000</td>\n",
              "      <td>31.000000</td>\n",
              "      <td>8.000000</td>\n",
              "    </tr>\n",
              "    <tr>\n",
              "      <th>max</th>\n",
              "      <td>36.000000</td>\n",
              "      <td>28.000000</td>\n",
              "      <td>12.000000</td>\n",
              "      <td>6.000000</td>\n",
              "      <td>4.000000</td>\n",
              "      <td>388.000000</td>\n",
              "      <td>52.000000</td>\n",
              "      <td>29.000000</td>\n",
              "      <td>58.000000</td>\n",
              "      <td>378.884000</td>\n",
              "      <td>100.000000</td>\n",
              "      <td>1.000000</td>\n",
              "      <td>4.000000</td>\n",
              "      <td>4.000000</td>\n",
              "      <td>1.000000</td>\n",
              "      <td>1.000000</td>\n",
              "      <td>8.000000</td>\n",
              "      <td>108.000000</td>\n",
              "      <td>196.000000</td>\n",
              "      <td>38.000000</td>\n",
              "      <td>120.000000</td>\n",
              "    </tr>\n",
              "  </tbody>\n",
              "</table>\n",
              "</div>"
            ],
            "text/plain": [
              "               ID  ...  Absenteeism time in hours\n",
              "count  254.000000  ...                 254.000000\n",
              "mean    18.102362  ...                   7.098425\n",
              "std     10.853195  ...                  13.241231\n",
              "min      1.000000  ...                   0.000000\n",
              "25%     10.000000  ...                   2.000000\n",
              "50%     19.000000  ...                   3.000000\n",
              "75%     28.000000  ...                   8.000000\n",
              "max     36.000000  ...                 120.000000\n",
              "\n",
              "[8 rows x 21 columns]"
            ]
          },
          "metadata": {
            "tags": []
          },
          "execution_count": 9
        }
      ]
    },
    {
      "cell_type": "code",
      "metadata": {
        "colab": {
          "base_uri": "https://localhost:8080/",
          "height": 368
        },
        "id": "iu7-F6PeJtBq",
        "outputId": "8ab60384-68a3-4eb3-a6db-c932028de79f"
      },
      "source": [
        "muestra2=poblacion.sample(n =260 ) \r\n",
        "muestra2.describe()"
      ],
      "execution_count": 10,
      "outputs": [
        {
          "output_type": "execute_result",
          "data": {
            "text/html": [
              "<div>\n",
              "<style scoped>\n",
              "    .dataframe tbody tr th:only-of-type {\n",
              "        vertical-align: middle;\n",
              "    }\n",
              "\n",
              "    .dataframe tbody tr th {\n",
              "        vertical-align: top;\n",
              "    }\n",
              "\n",
              "    .dataframe thead th {\n",
              "        text-align: right;\n",
              "    }\n",
              "</style>\n",
              "<table border=\"1\" class=\"dataframe\">\n",
              "  <thead>\n",
              "    <tr style=\"text-align: right;\">\n",
              "      <th></th>\n",
              "      <th>ID</th>\n",
              "      <th>Reason for absence</th>\n",
              "      <th>Month of absence</th>\n",
              "      <th>Day of the week</th>\n",
              "      <th>Seasons</th>\n",
              "      <th>Transportation expense</th>\n",
              "      <th>Distance from Residence to Work</th>\n",
              "      <th>Service time</th>\n",
              "      <th>Age</th>\n",
              "      <th>Work load Average/day</th>\n",
              "      <th>Hit target</th>\n",
              "      <th>Disciplinary failure</th>\n",
              "      <th>Education</th>\n",
              "      <th>Son</th>\n",
              "      <th>Social drinker</th>\n",
              "      <th>Social smoker</th>\n",
              "      <th>Pet</th>\n",
              "      <th>Weight</th>\n",
              "      <th>Height</th>\n",
              "      <th>Body mass index</th>\n",
              "      <th>Absenteeism time in hours</th>\n",
              "    </tr>\n",
              "  </thead>\n",
              "  <tbody>\n",
              "    <tr>\n",
              "      <th>count</th>\n",
              "      <td>260.000000</td>\n",
              "      <td>260.000000</td>\n",
              "      <td>260.000000</td>\n",
              "      <td>260.000000</td>\n",
              "      <td>260.000000</td>\n",
              "      <td>260.000000</td>\n",
              "      <td>260.000000</td>\n",
              "      <td>260.000000</td>\n",
              "      <td>260.000000</td>\n",
              "      <td>260.000000</td>\n",
              "      <td>260.000000</td>\n",
              "      <td>260.000000</td>\n",
              "      <td>260.000000</td>\n",
              "      <td>260.000000</td>\n",
              "      <td>260.000000</td>\n",
              "      <td>260.000000</td>\n",
              "      <td>260.000000</td>\n",
              "      <td>260.000000</td>\n",
              "      <td>260.000000</td>\n",
              "      <td>260.000000</td>\n",
              "      <td>260.000000</td>\n",
              "    </tr>\n",
              "    <tr>\n",
              "      <th>mean</th>\n",
              "      <td>17.765385</td>\n",
              "      <td>20.415385</td>\n",
              "      <td>6.453846</td>\n",
              "      <td>3.838462</td>\n",
              "      <td>2.530769</td>\n",
              "      <td>223.084615</td>\n",
              "      <td>30.165385</td>\n",
              "      <td>12.838462</td>\n",
              "      <td>36.738462</td>\n",
              "      <td>273.030892</td>\n",
              "      <td>94.426923</td>\n",
              "      <td>0.038462</td>\n",
              "      <td>1.230769</td>\n",
              "      <td>1.161538</td>\n",
              "      <td>0.634615</td>\n",
              "      <td>0.065385</td>\n",
              "      <td>0.730769</td>\n",
              "      <td>80.584615</td>\n",
              "      <td>172.492308</td>\n",
              "      <td>27.096154</td>\n",
              "      <td>7.807692</td>\n",
              "    </tr>\n",
              "    <tr>\n",
              "      <th>std</th>\n",
              "      <td>11.097095</td>\n",
              "      <td>7.824607</td>\n",
              "      <td>3.391134</td>\n",
              "      <td>1.456201</td>\n",
              "      <td>1.126641</td>\n",
              "      <td>68.263348</td>\n",
              "      <td>15.225447</td>\n",
              "      <td>4.220384</td>\n",
              "      <td>6.327673</td>\n",
              "      <td>41.729485</td>\n",
              "      <td>3.879265</td>\n",
              "      <td>0.192679</td>\n",
              "      <td>0.615607</td>\n",
              "      <td>1.171105</td>\n",
              "      <td>0.482467</td>\n",
              "      <td>0.247680</td>\n",
              "      <td>1.287231</td>\n",
              "      <td>12.873777</td>\n",
              "      <td>6.948510</td>\n",
              "      <td>4.204519</td>\n",
              "      <td>13.578086</td>\n",
              "    </tr>\n",
              "    <tr>\n",
              "      <th>min</th>\n",
              "      <td>1.000000</td>\n",
              "      <td>0.000000</td>\n",
              "      <td>0.000000</td>\n",
              "      <td>2.000000</td>\n",
              "      <td>1.000000</td>\n",
              "      <td>118.000000</td>\n",
              "      <td>5.000000</td>\n",
              "      <td>1.000000</td>\n",
              "      <td>28.000000</td>\n",
              "      <td>205.917000</td>\n",
              "      <td>81.000000</td>\n",
              "      <td>0.000000</td>\n",
              "      <td>1.000000</td>\n",
              "      <td>0.000000</td>\n",
              "      <td>0.000000</td>\n",
              "      <td>0.000000</td>\n",
              "      <td>0.000000</td>\n",
              "      <td>56.000000</td>\n",
              "      <td>163.000000</td>\n",
              "      <td>19.000000</td>\n",
              "      <td>0.000000</td>\n",
              "    </tr>\n",
              "    <tr>\n",
              "      <th>25%</th>\n",
              "      <td>10.000000</td>\n",
              "      <td>15.750000</td>\n",
              "      <td>3.000000</td>\n",
              "      <td>3.000000</td>\n",
              "      <td>2.000000</td>\n",
              "      <td>179.000000</td>\n",
              "      <td>16.000000</td>\n",
              "      <td>10.000000</td>\n",
              "      <td>32.000000</td>\n",
              "      <td>241.476000</td>\n",
              "      <td>93.000000</td>\n",
              "      <td>0.000000</td>\n",
              "      <td>1.000000</td>\n",
              "      <td>0.000000</td>\n",
              "      <td>0.000000</td>\n",
              "      <td>0.000000</td>\n",
              "      <td>0.000000</td>\n",
              "      <td>69.000000</td>\n",
              "      <td>169.000000</td>\n",
              "      <td>24.000000</td>\n",
              "      <td>2.000000</td>\n",
              "    </tr>\n",
              "    <tr>\n",
              "      <th>50%</th>\n",
              "      <td>17.500000</td>\n",
              "      <td>23.000000</td>\n",
              "      <td>7.000000</td>\n",
              "      <td>4.000000</td>\n",
              "      <td>3.000000</td>\n",
              "      <td>225.000000</td>\n",
              "      <td>26.000000</td>\n",
              "      <td>13.000000</td>\n",
              "      <td>37.000000</td>\n",
              "      <td>264.249000</td>\n",
              "      <td>95.000000</td>\n",
              "      <td>0.000000</td>\n",
              "      <td>1.000000</td>\n",
              "      <td>1.000000</td>\n",
              "      <td>1.000000</td>\n",
              "      <td>0.000000</td>\n",
              "      <td>0.000000</td>\n",
              "      <td>83.000000</td>\n",
              "      <td>170.000000</td>\n",
              "      <td>26.000000</td>\n",
              "      <td>3.000000</td>\n",
              "    </tr>\n",
              "    <tr>\n",
              "      <th>75%</th>\n",
              "      <td>28.000000</td>\n",
              "      <td>27.000000</td>\n",
              "      <td>9.250000</td>\n",
              "      <td>5.000000</td>\n",
              "      <td>4.000000</td>\n",
              "      <td>260.000000</td>\n",
              "      <td>50.000000</td>\n",
              "      <td>16.000000</td>\n",
              "      <td>40.000000</td>\n",
              "      <td>296.309000</td>\n",
              "      <td>97.000000</td>\n",
              "      <td>0.000000</td>\n",
              "      <td>1.000000</td>\n",
              "      <td>2.000000</td>\n",
              "      <td>1.000000</td>\n",
              "      <td>0.000000</td>\n",
              "      <td>1.000000</td>\n",
              "      <td>89.000000</td>\n",
              "      <td>172.000000</td>\n",
              "      <td>31.000000</td>\n",
              "      <td>8.000000</td>\n",
              "    </tr>\n",
              "    <tr>\n",
              "      <th>max</th>\n",
              "      <td>36.000000</td>\n",
              "      <td>28.000000</td>\n",
              "      <td>12.000000</td>\n",
              "      <td>6.000000</td>\n",
              "      <td>4.000000</td>\n",
              "      <td>388.000000</td>\n",
              "      <td>52.000000</td>\n",
              "      <td>29.000000</td>\n",
              "      <td>58.000000</td>\n",
              "      <td>378.884000</td>\n",
              "      <td>100.000000</td>\n",
              "      <td>1.000000</td>\n",
              "      <td>4.000000</td>\n",
              "      <td>4.000000</td>\n",
              "      <td>1.000000</td>\n",
              "      <td>1.000000</td>\n",
              "      <td>8.000000</td>\n",
              "      <td>108.000000</td>\n",
              "      <td>196.000000</td>\n",
              "      <td>38.000000</td>\n",
              "      <td>120.000000</td>\n",
              "    </tr>\n",
              "  </tbody>\n",
              "</table>\n",
              "</div>"
            ],
            "text/plain": [
              "               ID  ...  Absenteeism time in hours\n",
              "count  260.000000  ...                 260.000000\n",
              "mean    17.765385  ...                   7.807692\n",
              "std     11.097095  ...                  13.578086\n",
              "min      1.000000  ...                   0.000000\n",
              "25%     10.000000  ...                   2.000000\n",
              "50%     17.500000  ...                   3.000000\n",
              "75%     28.000000  ...                   8.000000\n",
              "max     36.000000  ...                 120.000000\n",
              "\n",
              "[8 rows x 21 columns]"
            ]
          },
          "metadata": {
            "tags": []
          },
          "execution_count": 10
        }
      ]
    },
    {
      "cell_type": "markdown",
      "metadata": {
        "id": "SkztNRfgE1bd"
      },
      "source": [
        "Dispersión con muestra N=500"
      ]
    },
    {
      "cell_type": "code",
      "metadata": {
        "id": "cWChVz-l0S5o"
      },
      "source": [
        "N_muestra= 500\r\n",
        "mediasmuestras = []\r\n",
        "for i in range(1000):\r\n",
        "    muestra_p = poblacion.sample(n =N_muestra ) \r\n",
        "    mediasmuestras.append(muestra_p.Age.values.mean())"
      ],
      "execution_count": 109,
      "outputs": []
    },
    {
      "cell_type": "code",
      "metadata": {
        "colab": {
          "base_uri": "https://localhost:8080/",
          "height": 282
        },
        "id": "3myHgHho0ace",
        "outputId": "f70ceca8-4988-4221-f34a-5b6ffdd4889f"
      },
      "source": [
        "x = np.linspace(mu - 3*sigma, mu + 3*sigma, 100)\r\n",
        "plt.plot(x, stats.norm.pdf(x, mu, sigma))\r\n",
        "plt.hist(mediasmuestras, bins=50,density=True)\r\n",
        "plt.vlines( mu +1.96*sigma, 0, 0.3, colors='r', lw=2, alpha=0.5)\r\n",
        "plt.vlines( mu -1.96*sigma, 0, 0.3, colors='r', lw=2, alpha=0.5)"
      ],
      "execution_count": 110,
      "outputs": [
        {
          "output_type": "execute_result",
          "data": {
            "text/plain": [
              "<matplotlib.collections.LineCollection at 0x7ff8fdbc82e8>"
            ]
          },
          "metadata": {
            "tags": []
          },
          "execution_count": 110
        },
        {
          "output_type": "display_data",
          "data": {
            "image/png": "[encoded data removed]",
            "text/plain": [
              "<Figure size 432x288 with 1 Axes>"
            ]
          },
          "metadata": {
            "tags": [],
            "needs_background": "light"
          }
        }
      ]
    },
    {
      "cell_type": "markdown",
      "metadata": {
        "id": "wYaCDtQYE8Cr"
      },
      "source": [
        "Dispersión con muestra N=254"
      ]
    },
    {
      "cell_type": "code",
      "metadata": {
        "id": "AHXxEU6ikoBj"
      },
      "source": [
        "N_muestra= 254\n",
        "mediasmuestras = []\n",
        "for i in range(1000):\n",
        "    muestra_p = poblacion.sample(n =N_muestra ) \n",
        "    mediasmuestras.append(muestra_p.Age.values.mean())"
      ],
      "execution_count": 91,
      "outputs": []
    },
    {
      "cell_type": "code",
      "metadata": {
        "id": "Fof8pQzkkoBk",
        "colab": {
          "base_uri": "https://localhost:8080/",
          "height": 282
        },
        "outputId": "78934604-3ef3-40e3-dd2e-6c77e86d97b5"
      },
      "source": [
        "x = np.linspace(mu - 3*sigma, mu + 3*sigma, 100)\n",
        "plt.plot(x, stats.norm.pdf(x, mu, sigma))\n",
        "plt.hist(mediasmuestras, bins=50,density=True)\n",
        "plt.vlines( mu +1.96*sigma, 0, 0.3, colors='r', lw=2, alpha=0.5)\n",
        "plt.vlines( mu -1.96*sigma, 0, 0.3, colors='r', lw=2, alpha=0.5)\n"
      ],
      "execution_count": 92,
      "outputs": [
        {
          "output_type": "execute_result",
          "data": {
            "text/plain": [
              "<matplotlib.collections.LineCollection at 0x7ff8fcf54940>"
            ]
          },
          "metadata": {
            "tags": []
          },
          "execution_count": 92
        },
        {
          "output_type": "display_data",
          "data": {
            "image/png": "[encoded data removed]",
            "text/plain": [
              "<Figure size 432x288 with 1 Axes>"
            ]
          },
          "metadata": {
            "tags": [],
            "needs_background": "light"
          }
        }
      ]
    },
    {
      "cell_type": "markdown",
      "metadata": {
        "id": "NaNaUvsYFAG4"
      },
      "source": [
        "Dispersión con muestra N=5"
      ]
    },
    {
      "cell_type": "code",
      "metadata": {
        "id": "I-RPC6K0koBk"
      },
      "source": [
        "N_muestra= 5\n",
        "mediasmuestras = []\n",
        "for i in range(1000):\n",
        "    muestra_p = poblacion.sample(n =N_muestra ) \n",
        "    mediasmuestras.append(muestra_p.Age.values.mean())"
      ],
      "execution_count": 107,
      "outputs": []
    },
    {
      "cell_type": "code",
      "metadata": {
        "colab": {
          "base_uri": "https://localhost:8080/",
          "height": 282
        },
        "id": "z9Nm4sPNzGWJ",
        "outputId": "3749925b-1e95-4a49-eef2-c7a922d7f4e3"
      },
      "source": [
        "x = np.linspace(mu - 3*sigma, mu + 3*sigma, 100)\r\n",
        "plt.plot(x, stats.norm.pdf(x, mu, sigma))\r\n",
        "plt.hist(mediasmuestras, bins=50,density=True)\r\n",
        "plt.vlines( mu +1.96*sigma, 0, 0.3, colors='r', lw=2, alpha=0.5)\r\n",
        "plt.vlines( mu -1.96*sigma, 0, 0.3, colors='r', lw=2, alpha=0.5)"
      ],
      "execution_count": 108,
      "outputs": [
        {
          "output_type": "execute_result",
          "data": {
            "text/plain": [
              "<matplotlib.collections.LineCollection at 0x7ff8fccf1550>"
            ]
          },
          "metadata": {
            "tags": []
          },
          "execution_count": 108
        },
        {
          "output_type": "display_data",
          "data": {
            "image/png": "[encoded data removed]",
            "text/plain": [
              "<Figure size 432x288 with 1 Axes>"
            ]
          },
          "metadata": {
            "tags": [],
            "needs_background": "light"
          }
        }
      ]
    },
    {
      "cell_type": "code",
      "metadata": {
        "id": "ph6LqohZzL0N"
      },
      "source": [
        "#Al ser menor el tamaño de la muestra, menos coincide con la media de la población \"real\""
      ],
      "execution_count": null,
      "outputs": []
    },
    {
      "cell_type": "code",
      "metadata": {
        "id": "LkEqAlmQkoBl"
      },
      "source": [
        "import seaborn as sns"
      ],
      "execution_count": 19,
      "outputs": []
    },
    {
      "cell_type": "markdown",
      "metadata": {
        "id": "uX_SyvjXFeUx"
      },
      "source": [
        "Gráfico Boxplot"
      ]
    },
    {
      "cell_type": "code",
      "metadata": {
        "id": "Kf2qeH97koBl",
        "colab": {
          "base_uri": "https://localhost:8080/",
          "height": 266
        },
        "outputId": "b5ec7f77-3d60-40bd-c21e-44499c1b0573"
      },
      "source": [
        "\n",
        "boxplot = poblacion.boxplot(column=['Age', 'Transportation expense', 'Distance from Residence to Work'])"
      ],
      "execution_count": 77,
      "outputs": [
        {
          "output_type": "display_data",
          "data": {
            "image/png": "[encoded data removed]",
            "text/plain": [
              "<Figure size 432x288 with 1 Axes>"
            ]
          },
          "metadata": {
            "tags": [],
            "needs_background": "light"
          }
        }
      ]
    },
    {
      "cell_type": "code",
      "metadata": {
        "id": "KiOlK_12koBm",
        "colab": {
          "base_uri": "https://localhost:8080/",
          "height": 266
        },
        "outputId": "2ce57393-731a-4c35-dc06-8fae76d677c5"
      },
      "source": [
        "\n",
        "boxplot = muestra_p.boxplot(column=['Age', 'Transportation expense', 'Distance from Residence to Work'])"
      ],
      "execution_count": 23,
      "outputs": [
        {
          "output_type": "display_data",
          "data": {
            "image/png": "[encoded data removed]",
            "text/plain": [
              "<Figure size 432x288 with 1 Axes>"
            ]
          },
          "metadata": {
            "tags": [],
            "needs_background": "light"
          }
        }
      ]
    },
    {
      "cell_type": "code",
      "metadata": {
        "id": "cq5foGQF2TRm"
      },
      "source": [
        "#En los boxplots se observan más outliers en la muestra que en la población"
      ],
      "execution_count": null,
      "outputs": []
    },
    {
      "cell_type": "markdown",
      "metadata": {
        "id": "WIgBxatRFldQ"
      },
      "source": [
        "Dispersión datos\r\n",
        "Variables: Distancia hogar-trabajo; Costo de Transporte"
      ]
    },
    {
      "cell_type": "code",
      "metadata": {
        "id": "X58rG9ZukoBn",
        "colab": {
          "base_uri": "https://localhost:8080/",
          "height": 749
        },
        "outputId": "5353f2b7-f717-47e3-e950-7f7ceff14154"
      },
      "source": [
        "sns.relplot(x=\"Distance from Residence to Work\", y=\"Transportation expense\", data=poblacion);\n",
        "sns.relplot(x=\"Distance from Residence to Work\", y=\"Transportation expense\", data=muestra_p);"
      ],
      "execution_count": 25,
      "outputs": [
        {
          "output_type": "display_data",
          "data": {
            "image/png": "[encoded data removed]",
            "text/plain": [
              "<Figure size 360x360 with 1 Axes>"
            ]
          },
          "metadata": {
            "tags": [],
            "needs_background": "light"
          }
        },
        {
          "output_type": "display_data",
          "data": {
            "image/png": "[encoded data removed]",
            "text/plain": [
              "<Figure size 360x360 with 1 Axes>"
            ]
          },
          "metadata": {
            "tags": [],
            "needs_background": "light"
          }
        }
      ]
    },
    {
      "cell_type": "code",
      "metadata": {
        "id": "_7zC7277koBn"
      },
      "source": [
        "#No se ve mucha relación entre la Distancia hogar-trabajo con la variable de Gasto de Transporte.\r\n",
        "#Es probable que  otras variables influyan en el costo de transporte: medio (automóvil propio, taxi, bus), tráfico"
      ],
      "execution_count": 37,
      "outputs": []
    },
    {
      "cell_type": "markdown",
      "metadata": {
        "id": "g4jdahg-F1yY"
      },
      "source": [
        "Comparación Histogramas de población (azul) y muestra (naranja)"
      ]
    },
    {
      "cell_type": "code",
      "metadata": {
        "id": "yYgbxU_UkoBo",
        "colab": {
          "base_uri": "https://localhost:8080/",
          "height": 375
        },
        "outputId": "15537c32-fa58-4e4f-b706-ae7f79020bb0"
      },
      "source": [
        "sns.distplot(poblacion[\"Distance from Residence to Work\"], kde=False)\n",
        "sns.distplot(muestra_p[\"Distance from Residence to Work\"] ,kde=False)\n",
        "plt.title('Histograma', fontsize=18)\n",
        "plt.xlabel('Distancia Hogar-trabajo', fontsize=16)\n",
        "plt.ylabel('Frecuencia', fontsize=16)"
      ],
      "execution_count": 81,
      "outputs": [
        {
          "output_type": "stream",
          "text": [
            "/usr/local/lib/python3.6/dist-packages/seaborn/distributions.py:2551: FutureWarning: `distplot` is a deprecated function and will be removed in a future version. Please adapt your code to use either `displot` (a figure-level function with similar flexibility) or `histplot` (an axes-level function for histograms).\n",
            "  warnings.warn(msg, FutureWarning)\n"
          ],
          "name": "stderr"
        },
        {
          "output_type": "execute_result",
          "data": {
            "text/plain": [
              "Text(0, 0.5, 'Frecuencia')"
            ]
          },
          "metadata": {
            "tags": []
          },
          "execution_count": 81
        },
        {
          "output_type": "display_data",
          "data": {
            "image/png": "[encoded data removed]",
            "text/plain": [
              "<Figure size 432x288 with 1 Axes>"
            ]
          },
          "metadata": {
            "tags": [],
            "needs_background": "light"
          }
        }
      ]
    },
    {
      "cell_type": "code",
      "metadata": {
        "id": "6QhLa-iakoBo",
        "colab": {
          "base_uri": "https://localhost:8080/",
          "height": 375
        },
        "outputId": "36f0fcfd-918a-46cd-8082-e68e8bf14f90"
      },
      "source": [
        "sns.distplot(poblacion[\"Transportation expense\"], kde=False)\n",
        "sns.distplot(muestra_p[\"Transportation expense\"] ,kde=False)\n",
        "plt.title('Histograma', fontsize=18)\n",
        "plt.xlabel('Gasto transporte', fontsize=16)\n",
        "plt.ylabel('Frecuencia', fontsize=16)"
      ],
      "execution_count": 106,
      "outputs": [
        {
          "output_type": "stream",
          "text": [
            "/usr/local/lib/python3.6/dist-packages/seaborn/distributions.py:2551: FutureWarning: `distplot` is a deprecated function and will be removed in a future version. Please adapt your code to use either `displot` (a figure-level function with similar flexibility) or `histplot` (an axes-level function for histograms).\n",
            "  warnings.warn(msg, FutureWarning)\n"
          ],
          "name": "stderr"
        },
        {
          "output_type": "execute_result",
          "data": {
            "text/plain": [
              "Text(0, 0.5, 'Frecuencia')"
            ]
          },
          "metadata": {
            "tags": []
          },
          "execution_count": 106
        },
        {
          "output_type": "display_data",
          "data": {
            "image/png": "[encoded data removed]",
            "text/plain": [
              "<Figure size 432x288 with 1 Axes>"
            ]
          },
          "metadata": {
            "tags": [],
            "needs_background": "light"
          }
        }
      ]
    },
    {
      "cell_type": "code",
      "metadata": {
        "id": "5GZA-gsFkoBp",
        "colab": {
          "base_uri": "https://localhost:8080/",
          "height": 375
        },
        "outputId": "dbed53f4-e109-414d-9cc5-4f5ffc6ff8ae"
      },
      "source": [
        "sns.distplot(poblacion[\"Distance from Residence to Work\"], kde=False)\n",
        "sns.distplot(muestra_p[\"Distance from Residence to Work\"] ,kde=False)\n",
        "plt.title('Histograma', fontsize=18)\n",
        "plt.xlabel('Distancia hogar-trabajo', fontsize=16)\n",
        "plt.ylabel('Frecuencia', fontsize=16)"
      ],
      "execution_count": 83,
      "outputs": [
        {
          "output_type": "stream",
          "text": [
            "/usr/local/lib/python3.6/dist-packages/seaborn/distributions.py:2551: FutureWarning: `distplot` is a deprecated function and will be removed in a future version. Please adapt your code to use either `displot` (a figure-level function with similar flexibility) or `histplot` (an axes-level function for histograms).\n",
            "  warnings.warn(msg, FutureWarning)\n"
          ],
          "name": "stderr"
        },
        {
          "output_type": "execute_result",
          "data": {
            "text/plain": [
              "Text(0, 0.5, 'Frecuencia')"
            ]
          },
          "metadata": {
            "tags": []
          },
          "execution_count": 83
        },
        {
          "output_type": "display_data",
          "data": {
            "image/png": "[encoded data removed]",
            "text/plain": [
              "<Figure size 432x288 with 1 Axes>"
            ]
          },
          "metadata": {
            "tags": [],
            "needs_background": "light"
          }
        }
      ]
    },
    {
      "cell_type": "code",
      "metadata": {
        "id": "qFFV7gSt9lQp"
      },
      "source": [
        "from scipy import stats"
      ],
      "execution_count": 113,
      "outputs": []
    },
    {
      "cell_type": "markdown",
      "metadata": {
        "id": "A_Tx_ouh_DQn"
      },
      "source": [
        "Prueba de Hipótesis entre la muestra y la población\r\n",
        "\r\n",
        "Variable: Distancia hogar-trabajo"
      ]
    },
    {
      "cell_type": "code",
      "metadata": {
        "colab": {
          "base_uri": "https://localhost:8080/"
        },
        "id": "Jb9M2UtB9Y83",
        "outputId": "8e9db550-8d4c-4da9-9050-a0b5568a3a80"
      },
      "source": [
        "stats.ks_2samp(poblacion['Distance from Residence to Work'], muestra['Distance from Residence to Work'])"
      ],
      "execution_count": 116,
      "outputs": [
        {
          "output_type": "execute_result",
          "data": {
            "text/plain": [
              "Ks_2sampResult(statistic=0.051723771015109596, pvalue=0.6683801062087128)"
            ]
          },
          "metadata": {
            "tags": []
          },
          "execution_count": 116
        }
      ]
    },
    {
      "cell_type": "code",
      "metadata": {
        "id": "SJn56QFD-yG4"
      },
      "source": [
        "#No se rechaza la Hipótesis nula (p value > 0.05). La muestra es consistente con la población"
      ],
      "execution_count": null,
      "outputs": []
    },
    {
      "cell_type": "markdown",
      "metadata": {
        "id": "iTc7SZ3JKBux"
      },
      "source": [
        "Prueba de Hipótesis entre dos muestras\r\n",
        "\r\n",
        "Variable: Distancia hogar-trabajo"
      ]
    },
    {
      "cell_type": "code",
      "metadata": {
        "colab": {
          "base_uri": "https://localhost:8080/"
        },
        "id": "nnmd4Dm-J6UC",
        "outputId": "b9ad3adf-108f-4de8-e344-617867f4e0c6"
      },
      "source": [
        "stats.ks_2samp(muestra2['Distance from Residence to Work'], muestra['Distance from Residence to Work'])"
      ],
      "execution_count": 11,
      "outputs": [
        {
          "output_type": "execute_result",
          "data": {
            "text/plain": [
              "Ks_2sampResult(statistic=0.027892186553603877, pvalue=0.9998741702176606)"
            ]
          },
          "metadata": {
            "tags": []
          },
          "execution_count": 11
        }
      ]
    },
    {
      "cell_type": "code",
      "metadata": {
        "id": "gL-4XqbWLcs4"
      },
      "source": [
        "#No se rechaza la Hipótesis nula (p value > 0.05). La muestras vienen de una misma distribución continua"
      ],
      "execution_count": null,
      "outputs": []
    },
    {
      "cell_type": "markdown",
      "metadata": {
        "id": "gJbK6NyIEaaV"
      },
      "source": [
        "Prueba de Hipótesis_ Normalidad\r\n",
        "\r\n",
        "Variable: Distancia hogar-trabajo"
      ]
    },
    {
      "cell_type": "code",
      "metadata": {
        "colab": {
          "base_uri": "https://localhost:8080/"
        },
        "id": "HLEXKrSOAN3d",
        "outputId": "8826656a-8fe1-4616-dadd-1a57ab7fa39c"
      },
      "source": [
        "stats.kstest(poblacion['Distance from Residence to Work'], 'norm')"
      ],
      "execution_count": 118,
      "outputs": [
        {
          "output_type": "execute_result",
          "data": {
            "text/plain": [
              "KstestResult(statistic=0.9999997133484281, pvalue=0.0)"
            ]
          },
          "metadata": {
            "tags": []
          },
          "execution_count": 118
        }
      ]
    },
    {
      "cell_type": "code",
      "metadata": {
        "id": "-lRDaVVeA_lc"
      },
      "source": [
        "#Se rechaza la Hipótesis nula (p value <  0.05). No sigue una distribución normal"
      ],
      "execution_count": null,
      "outputs": []
    }
  ]
}